{
  "nbformat": 4,
  "nbformat_minor": 0,
  "metadata": {
    "colab": {
      "name": "second_part.ipynb",
      "provenance": [],
      "collapsed_sections": []
    },
    "kernelspec": {
      "name": "python3",
      "display_name": "Python 3"
    },
    "language_info": {
      "name": "python"
    }
  },
  "cells": [
    {
      "cell_type": "markdown",
      "source": [
        "# Скачиваем данные и устанавливаем программы"
      ],
      "metadata": {
        "id": "WJ71oQTxShEj"
      }
    },
    {
      "cell_type": "code",
      "source": [
        "!wget https://raw.githubusercontent.com/apieceofwork/hse21_hw2/main/data/gms2.lst"
      ],
      "metadata": {
        "id": "fWSU9pxNTOSR",
        "colab": {
          "base_uri": "https://localhost:8080/"
        },
        "outputId": "f902be43-24eb-40fe-f85c-5e234839c138"
      },
      "execution_count": 1,
      "outputs": [
        {
          "output_type": "stream",
          "name": "stdout",
          "text": [
            "--2021-12-16 16:24:35--  https://raw.githubusercontent.com/apieceofwork/hse21_hw2/main/data/gms2.lst\n",
            "Resolving raw.githubusercontent.com (raw.githubusercontent.com)... 185.199.108.133, 185.199.109.133, 185.199.110.133, ...\n",
            "Connecting to raw.githubusercontent.com (raw.githubusercontent.com)|185.199.108.133|:443... connected.\n",
            "HTTP request sent, awaiting response... 200 OK\n",
            "Length: 219495 (214K) [text/plain]\n",
            "Saving to: ‘gms2.lst’\n",
            "\n",
            "\rgms2.lst              0%[                    ]       0  --.-KB/s               \rgms2.lst            100%[===================>] 214.35K  --.-KB/s    in 0.01s   \n",
            "\n",
            "2021-12-16 16:24:36 (18.8 MB/s) - ‘gms2.lst’ saved [219495/219495]\n",
            "\n"
          ]
        }
      ]
    },
    {
      "cell_type": "code",
      "source": [
        "!wget https://raw.githubusercontent.com/apieceofwork/hse21_hw2/main/data/scaffolds.fasta"
      ],
      "metadata": {
        "id": "yWoD0myNTVi8",
        "colab": {
          "base_uri": "https://localhost:8080/"
        },
        "outputId": "aa01d7fd-6e20-47c3-880e-aef9c8214f59"
      },
      "execution_count": 3,
      "outputs": [
        {
          "output_type": "stream",
          "name": "stdout",
          "text": [
            "--2021-12-16 16:24:55--  https://raw.githubusercontent.com/apieceofwork/hse21_hw2/main/data/scaffolds.fasta\n",
            "Resolving raw.githubusercontent.com (raw.githubusercontent.com)... 185.199.110.133, 185.199.111.133, 185.199.108.133, ...\n",
            "Connecting to raw.githubusercontent.com (raw.githubusercontent.com)|185.199.110.133|:443... connected.\n",
            "HTTP request sent, awaiting response... 200 OK\n",
            "Length: 3923846 (3.7M) [text/plain]\n",
            "Saving to: ‘scaffolds.fasta’\n",
            "\n",
            "scaffolds.fasta     100%[===================>]   3.74M  --.-KB/s    in 0.04s   \n",
            "\n",
            "2021-12-16 16:24:55 (104 MB/s) - ‘scaffolds.fasta’ saved [3923846/3923846]\n",
            "\n"
          ]
        }
      ]
    },
    {
      "cell_type": "code",
      "source": [
        "!wget https://raw.githubusercontent.com/apieceofwork/hse21_hw2/main/data/proteins.fasta"
      ],
      "metadata": {
        "id": "FkuulZekTbh9",
        "colab": {
          "base_uri": "https://localhost:8080/"
        },
        "outputId": "4eea8962-190a-497e-d593-c091ef304212"
      },
      "execution_count": 4,
      "outputs": [
        {
          "output_type": "stream",
          "name": "stdout",
          "text": [
            "--2021-12-16 16:25:09--  https://raw.githubusercontent.com/apieceofwork/hse21_hw2/main/data/proteins.fasta\n",
            "Resolving raw.githubusercontent.com (raw.githubusercontent.com)... 185.199.108.133, 185.199.109.133, 185.199.110.133, ...\n",
            "Connecting to raw.githubusercontent.com (raw.githubusercontent.com)|185.199.108.133|:443... connected.\n",
            "HTTP request sent, awaiting response... 200 OK\n",
            "Length: 1425960 (1.4M) [text/plain]\n",
            "Saving to: ‘proteins.fasta’\n",
            "\n",
            "proteins.fasta      100%[===================>]   1.36M  --.-KB/s    in 0.02s   \n",
            "\n",
            "2021-12-16 16:25:09 (56.8 MB/s) - ‘proteins.fasta’ saved [1425960/1425960]\n",
            "\n"
          ]
        }
      ]
    },
    {
      "cell_type": "code",
      "source": [
        "!wget https://raw.githubusercontent.com/apieceofwork/hse21_hw2/main/data/scaffolds.hits_from_MIL_1.txt"
      ],
      "metadata": {
        "id": "wljcApdJTjGr",
        "colab": {
          "base_uri": "https://localhost:8080/"
        },
        "outputId": "121fff1a-22a4-425f-8239-227727348c47"
      },
      "execution_count": 5,
      "outputs": [
        {
          "output_type": "stream",
          "name": "stdout",
          "text": [
            "--2021-12-16 16:25:16--  https://raw.githubusercontent.com/apieceofwork/hse21_hw2/main/data/scaffolds.hits_from_MIL_1.txt\n",
            "Resolving raw.githubusercontent.com (raw.githubusercontent.com)... 185.199.108.133, 185.199.109.133, 185.199.110.133, ...\n",
            "Connecting to raw.githubusercontent.com (raw.githubusercontent.com)|185.199.108.133|:443... connected.\n",
            "HTTP request sent, awaiting response... 200 OK\n",
            "Length: 833522 (814K) [text/plain]\n",
            "Saving to: ‘scaffolds.hits_from_MIL_1.txt’\n",
            "\n",
            "scaffolds.hits_from 100%[===================>] 813.99K  --.-KB/s    in 0.02s   \n",
            "\n",
            "2021-12-16 16:25:16 (37.0 MB/s) - ‘scaffolds.hits_from_MIL_1.txt’ saved [833522/833522]\n",
            "\n"
          ]
        }
      ]
    },
    {
      "cell_type": "code",
      "source": [
        "!wget https://raw.githubusercontent.com/apieceofwork/hse21_hw2/main/data/scaffolds.hits_from_SwissProt.txt"
      ],
      "metadata": {
        "id": "7ZGyVtAfTopz",
        "colab": {
          "base_uri": "https://localhost:8080/"
        },
        "outputId": "f01a9bf5-8ef7-4c65-c2fa-0845f53b3c9e"
      },
      "execution_count": 6,
      "outputs": [
        {
          "output_type": "stream",
          "name": "stdout",
          "text": [
            "--2021-12-16 16:25:20--  https://raw.githubusercontent.com/apieceofwork/hse21_hw2/main/data/scaffolds.hits_from_SwissProt.txt\n",
            "Resolving raw.githubusercontent.com (raw.githubusercontent.com)... 185.199.108.133, 185.199.109.133, 185.199.110.133, ...\n",
            "Connecting to raw.githubusercontent.com (raw.githubusercontent.com)|185.199.108.133|:443... connected.\n",
            "HTTP request sent, awaiting response... 200 OK\n",
            "Length: 65267 (64K) [text/plain]\n",
            "Saving to: ‘scaffolds.hits_from_SwissProt.txt’\n",
            "\n",
            "\r          scaffolds   0%[                    ]       0  --.-KB/s               \rscaffolds.hits_from 100%[===================>]  63.74K  --.-KB/s    in 0.005s  \n",
            "\n",
            "2021-12-16 16:25:20 (12.3 MB/s) - ‘scaffolds.hits_from_SwissProt.txt’ saved [65267/65267]\n",
            "\n"
          ]
        }
      ]
    },
    {
      "cell_type": "markdown",
      "metadata": {
        "id": "EkEflOHmCHHW"
      },
      "source": [
        "## Скачиваем геном близкородственной бактерии T.oleivorans"
      ]
    },
    {
      "cell_type": "markdown",
      "metadata": {
        "id": "noBYTW1bRH9O"
      },
      "source": [
        "Геном, последовательности генов (нт) и белков (протеом) для бактерии Thalassolituus oleivorans MIL-1\n",
        "https://www.ncbi.nlm.nih.gov/nuccore/HF680312"
      ]
    },
    {
      "cell_type": "code",
      "source": [
        "!sh -c \"$(curl -fsSL ftp://ftp.ncbi.nlm.nih.gov/entrez/entrezdirect/install-edirect.sh)\""
      ],
      "metadata": {
        "id": "bqv3FR5efmk6",
        "colab": {
          "base_uri": "https://localhost:8080/"
        },
        "outputId": "1618b07b-9aef-4ae6-a0e7-7417476baad7"
      },
      "execution_count": 7,
      "outputs": [
        {
          "output_type": "stream",
          "name": "stdout",
          "text": [
            "\n",
            "Entrez Direct has been successfully downloaded and installed.\n",
            "\n",
            "In order to complete the configuration process, please execute the following:\n",
            "\n",
            "  echo \"export PATH=\\${PATH}:/root/edirect\" >> ${HOME}/.bashrc\n",
            "\n",
            "or manually edit the PATH variable assignment in your .bashrc file.\n",
            "\n",
            "Would you like to do that automatically now? [y/N]\n",
            "y\n",
            "OK, done.\n",
            "\n",
            "To activate EDirect for this terminal session, please execute the following:\n",
            "\n",
            "export PATH=${PATH}:${HOME}/edirect\n",
            "\n"
          ]
        }
      ]
    },
    {
      "cell_type": "code",
      "source": [
        "!$HOME/edirect/efetch -db nuccore -id HF680312 -format gb  >  T_oleivorans_MIL_1.gbk"
      ],
      "metadata": {
        "id": "4O3-rUx4fvbw"
      },
      "execution_count": 8,
      "outputs": []
    },
    {
      "cell_type": "code",
      "metadata": {
        "id": "j2uga-mieSB6",
        "colab": {
          "base_uri": "https://localhost:8080/"
        },
        "outputId": "b640808a-dd8e-48b9-c270-64a27550eff8"
      },
      "source": [
        "!pip install biopython"
      ],
      "execution_count": 9,
      "outputs": [
        {
          "output_type": "stream",
          "name": "stdout",
          "text": [
            "Collecting biopython\n",
            "  Downloading biopython-1.79-cp37-cp37m-manylinux_2_5_x86_64.manylinux1_x86_64.whl (2.3 MB)\n",
            "\u001b[?25l\r\u001b[K     |▏                               | 10 kB 20.4 MB/s eta 0:00:01\r\u001b[K     |▎                               | 20 kB 27.4 MB/s eta 0:00:01\r\u001b[K     |▍                               | 30 kB 33.0 MB/s eta 0:00:01\r\u001b[K     |▋                               | 40 kB 34.7 MB/s eta 0:00:01\r\u001b[K     |▊                               | 51 kB 13.7 MB/s eta 0:00:01\r\u001b[K     |▉                               | 61 kB 10.7 MB/s eta 0:00:01\r\u001b[K     |█                               | 71 kB 11.5 MB/s eta 0:00:01\r\u001b[K     |█▏                              | 81 kB 12.8 MB/s eta 0:00:01\r\u001b[K     |█▎                              | 92 kB 13.0 MB/s eta 0:00:01\r\u001b[K     |█▍                              | 102 kB 11.8 MB/s eta 0:00:01\r\u001b[K     |█▋                              | 112 kB 11.8 MB/s eta 0:00:01\r\u001b[K     |█▊                              | 122 kB 11.8 MB/s eta 0:00:01\r\u001b[K     |█▉                              | 133 kB 11.8 MB/s eta 0:00:01\r\u001b[K     |██                              | 143 kB 11.8 MB/s eta 0:00:01\r\u001b[K     |██▏                             | 153 kB 11.8 MB/s eta 0:00:01\r\u001b[K     |██▎                             | 163 kB 11.8 MB/s eta 0:00:01\r\u001b[K     |██▍                             | 174 kB 11.8 MB/s eta 0:00:01\r\u001b[K     |██▋                             | 184 kB 11.8 MB/s eta 0:00:01\r\u001b[K     |██▊                             | 194 kB 11.8 MB/s eta 0:00:01\r\u001b[K     |██▉                             | 204 kB 11.8 MB/s eta 0:00:01\r\u001b[K     |███                             | 215 kB 11.8 MB/s eta 0:00:01\r\u001b[K     |███▏                            | 225 kB 11.8 MB/s eta 0:00:01\r\u001b[K     |███▎                            | 235 kB 11.8 MB/s eta 0:00:01\r\u001b[K     |███▌                            | 245 kB 11.8 MB/s eta 0:00:01\r\u001b[K     |███▋                            | 256 kB 11.8 MB/s eta 0:00:01\r\u001b[K     |███▊                            | 266 kB 11.8 MB/s eta 0:00:01\r\u001b[K     |███▉                            | 276 kB 11.8 MB/s eta 0:00:01\r\u001b[K     |████                            | 286 kB 11.8 MB/s eta 0:00:01\r\u001b[K     |████▏                           | 296 kB 11.8 MB/s eta 0:00:01\r\u001b[K     |████▎                           | 307 kB 11.8 MB/s eta 0:00:01\r\u001b[K     |████▌                           | 317 kB 11.8 MB/s eta 0:00:01\r\u001b[K     |████▋                           | 327 kB 11.8 MB/s eta 0:00:01\r\u001b[K     |████▊                           | 337 kB 11.8 MB/s eta 0:00:01\r\u001b[K     |████▉                           | 348 kB 11.8 MB/s eta 0:00:01\r\u001b[K     |█████                           | 358 kB 11.8 MB/s eta 0:00:01\r\u001b[K     |█████▏                          | 368 kB 11.8 MB/s eta 0:00:01\r\u001b[K     |█████▎                          | 378 kB 11.8 MB/s eta 0:00:01\r\u001b[K     |█████▌                          | 389 kB 11.8 MB/s eta 0:00:01\r\u001b[K     |█████▋                          | 399 kB 11.8 MB/s eta 0:00:01\r\u001b[K     |█████▊                          | 409 kB 11.8 MB/s eta 0:00:01\r\u001b[K     |██████                          | 419 kB 11.8 MB/s eta 0:00:01\r\u001b[K     |██████                          | 430 kB 11.8 MB/s eta 0:00:01\r\u001b[K     |██████▏                         | 440 kB 11.8 MB/s eta 0:00:01\r\u001b[K     |██████▎                         | 450 kB 11.8 MB/s eta 0:00:01\r\u001b[K     |██████▌                         | 460 kB 11.8 MB/s eta 0:00:01\r\u001b[K     |██████▋                         | 471 kB 11.8 MB/s eta 0:00:01\r\u001b[K     |██████▊                         | 481 kB 11.8 MB/s eta 0:00:01\r\u001b[K     |███████                         | 491 kB 11.8 MB/s eta 0:00:01\r\u001b[K     |███████                         | 501 kB 11.8 MB/s eta 0:00:01\r\u001b[K     |███████▏                        | 512 kB 11.8 MB/s eta 0:00:01\r\u001b[K     |███████▎                        | 522 kB 11.8 MB/s eta 0:00:01\r\u001b[K     |███████▌                        | 532 kB 11.8 MB/s eta 0:00:01\r\u001b[K     |███████▋                        | 542 kB 11.8 MB/s eta 0:00:01\r\u001b[K     |███████▊                        | 552 kB 11.8 MB/s eta 0:00:01\r\u001b[K     |████████                        | 563 kB 11.8 MB/s eta 0:00:01\r\u001b[K     |████████                        | 573 kB 11.8 MB/s eta 0:00:01\r\u001b[K     |████████▏                       | 583 kB 11.8 MB/s eta 0:00:01\r\u001b[K     |████████▍                       | 593 kB 11.8 MB/s eta 0:00:01\r\u001b[K     |████████▌                       | 604 kB 11.8 MB/s eta 0:00:01\r\u001b[K     |████████▋                       | 614 kB 11.8 MB/s eta 0:00:01\r\u001b[K     |████████▊                       | 624 kB 11.8 MB/s eta 0:00:01\r\u001b[K     |█████████                       | 634 kB 11.8 MB/s eta 0:00:01\r\u001b[K     |█████████                       | 645 kB 11.8 MB/s eta 0:00:01\r\u001b[K     |█████████▏                      | 655 kB 11.8 MB/s eta 0:00:01\r\u001b[K     |█████████▍                      | 665 kB 11.8 MB/s eta 0:00:01\r\u001b[K     |█████████▌                      | 675 kB 11.8 MB/s eta 0:00:01\r\u001b[K     |█████████▋                      | 686 kB 11.8 MB/s eta 0:00:01\r\u001b[K     |█████████▊                      | 696 kB 11.8 MB/s eta 0:00:01\r\u001b[K     |██████████                      | 706 kB 11.8 MB/s eta 0:00:01\r\u001b[K     |██████████                      | 716 kB 11.8 MB/s eta 0:00:01\r\u001b[K     |██████████▏                     | 727 kB 11.8 MB/s eta 0:00:01\r\u001b[K     |██████████▍                     | 737 kB 11.8 MB/s eta 0:00:01\r\u001b[K     |██████████▌                     | 747 kB 11.8 MB/s eta 0:00:01\r\u001b[K     |██████████▋                     | 757 kB 11.8 MB/s eta 0:00:01\r\u001b[K     |██████████▉                     | 768 kB 11.8 MB/s eta 0:00:01\r\u001b[K     |███████████                     | 778 kB 11.8 MB/s eta 0:00:01\r\u001b[K     |███████████                     | 788 kB 11.8 MB/s eta 0:00:01\r\u001b[K     |███████████▏                    | 798 kB 11.8 MB/s eta 0:00:01\r\u001b[K     |███████████▍                    | 808 kB 11.8 MB/s eta 0:00:01\r\u001b[K     |███████████▌                    | 819 kB 11.8 MB/s eta 0:00:01\r\u001b[K     |███████████▋                    | 829 kB 11.8 MB/s eta 0:00:01\r\u001b[K     |███████████▉                    | 839 kB 11.8 MB/s eta 0:00:01\r\u001b[K     |████████████                    | 849 kB 11.8 MB/s eta 0:00:01\r\u001b[K     |████████████                    | 860 kB 11.8 MB/s eta 0:00:01\r\u001b[K     |████████████▏                   | 870 kB 11.8 MB/s eta 0:00:01\r\u001b[K     |████████████▍                   | 880 kB 11.8 MB/s eta 0:00:01\r\u001b[K     |████████████▌                   | 890 kB 11.8 MB/s eta 0:00:01\r\u001b[K     |████████████▋                   | 901 kB 11.8 MB/s eta 0:00:01\r\u001b[K     |████████████▉                   | 911 kB 11.8 MB/s eta 0:00:01\r\u001b[K     |█████████████                   | 921 kB 11.8 MB/s eta 0:00:01\r\u001b[K     |█████████████                   | 931 kB 11.8 MB/s eta 0:00:01\r\u001b[K     |█████████████▎                  | 942 kB 11.8 MB/s eta 0:00:01\r\u001b[K     |█████████████▍                  | 952 kB 11.8 MB/s eta 0:00:01\r\u001b[K     |█████████████▌                  | 962 kB 11.8 MB/s eta 0:00:01\r\u001b[K     |█████████████▋                  | 972 kB 11.8 MB/s eta 0:00:01\r\u001b[K     |█████████████▉                  | 983 kB 11.8 MB/s eta 0:00:01\r\u001b[K     |██████████████                  | 993 kB 11.8 MB/s eta 0:00:01\r\u001b[K     |██████████████                  | 1.0 MB 11.8 MB/s eta 0:00:01\r\u001b[K     |██████████████▎                 | 1.0 MB 11.8 MB/s eta 0:00:01\r\u001b[K     |██████████████▍                 | 1.0 MB 11.8 MB/s eta 0:00:01\r\u001b[K     |██████████████▌                 | 1.0 MB 11.8 MB/s eta 0:00:01\r\u001b[K     |██████████████▋                 | 1.0 MB 11.8 MB/s eta 0:00:01\r\u001b[K     |██████████████▉                 | 1.1 MB 11.8 MB/s eta 0:00:01\r\u001b[K     |███████████████                 | 1.1 MB 11.8 MB/s eta 0:00:01\r\u001b[K     |███████████████                 | 1.1 MB 11.8 MB/s eta 0:00:01\r\u001b[K     |███████████████▎                | 1.1 MB 11.8 MB/s eta 0:00:01\r\u001b[K     |███████████████▍                | 1.1 MB 11.8 MB/s eta 0:00:01\r\u001b[K     |███████████████▌                | 1.1 MB 11.8 MB/s eta 0:00:01\r\u001b[K     |███████████████▊                | 1.1 MB 11.8 MB/s eta 0:00:01\r\u001b[K     |███████████████▉                | 1.1 MB 11.8 MB/s eta 0:00:01\r\u001b[K     |████████████████                | 1.1 MB 11.8 MB/s eta 0:00:01\r\u001b[K     |████████████████                | 1.1 MB 11.8 MB/s eta 0:00:01\r\u001b[K     |████████████████▎               | 1.2 MB 11.8 MB/s eta 0:00:01\r\u001b[K     |████████████████▍               | 1.2 MB 11.8 MB/s eta 0:00:01\r\u001b[K     |████████████████▌               | 1.2 MB 11.8 MB/s eta 0:00:01\r\u001b[K     |████████████████▊               | 1.2 MB 11.8 MB/s eta 0:00:01\r\u001b[K     |████████████████▉               | 1.2 MB 11.8 MB/s eta 0:00:01\r\u001b[K     |█████████████████               | 1.2 MB 11.8 MB/s eta 0:00:01\r\u001b[K     |█████████████████               | 1.2 MB 11.8 MB/s eta 0:00:01\r\u001b[K     |█████████████████▎              | 1.2 MB 11.8 MB/s eta 0:00:01\r\u001b[K     |█████████████████▍              | 1.2 MB 11.8 MB/s eta 0:00:01\r\u001b[K     |█████████████████▌              | 1.2 MB 11.8 MB/s eta 0:00:01\r\u001b[K     |█████████████████▊              | 1.3 MB 11.8 MB/s eta 0:00:01\r\u001b[K     |█████████████████▉              | 1.3 MB 11.8 MB/s eta 0:00:01\r\u001b[K     |██████████████████              | 1.3 MB 11.8 MB/s eta 0:00:01\r\u001b[K     |██████████████████▏             | 1.3 MB 11.8 MB/s eta 0:00:01\r\u001b[K     |██████████████████▎             | 1.3 MB 11.8 MB/s eta 0:00:01\r\u001b[K     |██████████████████▍             | 1.3 MB 11.8 MB/s eta 0:00:01\r\u001b[K     |██████████████████▌             | 1.3 MB 11.8 MB/s eta 0:00:01\r\u001b[K     |██████████████████▊             | 1.3 MB 11.8 MB/s eta 0:00:01\r\u001b[K     |██████████████████▉             | 1.3 MB 11.8 MB/s eta 0:00:01\r\u001b[K     |███████████████████             | 1.4 MB 11.8 MB/s eta 0:00:01\r\u001b[K     |███████████████████▏            | 1.4 MB 11.8 MB/s eta 0:00:01\r\u001b[K     |███████████████████▎            | 1.4 MB 11.8 MB/s eta 0:00:01\r\u001b[K     |███████████████████▍            | 1.4 MB 11.8 MB/s eta 0:00:01\r\u001b[K     |███████████████████▌            | 1.4 MB 11.8 MB/s eta 0:00:01\r\u001b[K     |███████████████████▊            | 1.4 MB 11.8 MB/s eta 0:00:01\r\u001b[K     |███████████████████▉            | 1.4 MB 11.8 MB/s eta 0:00:01\r\u001b[K     |████████████████████            | 1.4 MB 11.8 MB/s eta 0:00:01\r\u001b[K     |████████████████████▏           | 1.4 MB 11.8 MB/s eta 0:00:01\r\u001b[K     |████████████████████▎           | 1.4 MB 11.8 MB/s eta 0:00:01\r\u001b[K     |████████████████████▍           | 1.5 MB 11.8 MB/s eta 0:00:01\r\u001b[K     |████████████████████▋           | 1.5 MB 11.8 MB/s eta 0:00:01\r\u001b[K     |████████████████████▊           | 1.5 MB 11.8 MB/s eta 0:00:01\r\u001b[K     |████████████████████▉           | 1.5 MB 11.8 MB/s eta 0:00:01\r\u001b[K     |█████████████████████           | 1.5 MB 11.8 MB/s eta 0:00:01\r\u001b[K     |█████████████████████▏          | 1.5 MB 11.8 MB/s eta 0:00:01\r\u001b[K     |█████████████████████▎          | 1.5 MB 11.8 MB/s eta 0:00:01\r\u001b[K     |█████████████████████▍          | 1.5 MB 11.8 MB/s eta 0:00:01\r\u001b[K     |█████████████████████▋          | 1.5 MB 11.8 MB/s eta 0:00:01\r\u001b[K     |█████████████████████▊          | 1.5 MB 11.8 MB/s eta 0:00:01\r\u001b[K     |█████████████████████▉          | 1.6 MB 11.8 MB/s eta 0:00:01\r\u001b[K     |██████████████████████          | 1.6 MB 11.8 MB/s eta 0:00:01\r\u001b[K     |██████████████████████▏         | 1.6 MB 11.8 MB/s eta 0:00:01\r\u001b[K     |██████████████████████▎         | 1.6 MB 11.8 MB/s eta 0:00:01\r\u001b[K     |██████████████████████▍         | 1.6 MB 11.8 MB/s eta 0:00:01\r\u001b[K     |██████████████████████▋         | 1.6 MB 11.8 MB/s eta 0:00:01\r\u001b[K     |██████████████████████▊         | 1.6 MB 11.8 MB/s eta 0:00:01\r\u001b[K     |██████████████████████▉         | 1.6 MB 11.8 MB/s eta 0:00:01\r\u001b[K     |███████████████████████         | 1.6 MB 11.8 MB/s eta 0:00:01\r\u001b[K     |███████████████████████▏        | 1.6 MB 11.8 MB/s eta 0:00:01\r\u001b[K     |███████████████████████▎        | 1.7 MB 11.8 MB/s eta 0:00:01\r\u001b[K     |███████████████████████▍        | 1.7 MB 11.8 MB/s eta 0:00:01\r\u001b[K     |███████████████████████▋        | 1.7 MB 11.8 MB/s eta 0:00:01\r\u001b[K     |███████████████████████▊        | 1.7 MB 11.8 MB/s eta 0:00:01\r\u001b[K     |███████████████████████▉        | 1.7 MB 11.8 MB/s eta 0:00:01\r\u001b[K     |████████████████████████        | 1.7 MB 11.8 MB/s eta 0:00:01\r\u001b[K     |████████████████████████▏       | 1.7 MB 11.8 MB/s eta 0:00:01\r\u001b[K     |████████████████████████▎       | 1.7 MB 11.8 MB/s eta 0:00:01\r\u001b[K     |████████████████████████▍       | 1.7 MB 11.8 MB/s eta 0:00:01\r\u001b[K     |████████████████████████▋       | 1.8 MB 11.8 MB/s eta 0:00:01\r\u001b[K     |████████████████████████▊       | 1.8 MB 11.8 MB/s eta 0:00:01\r\u001b[K     |████████████████████████▉       | 1.8 MB 11.8 MB/s eta 0:00:01\r\u001b[K     |█████████████████████████       | 1.8 MB 11.8 MB/s eta 0:00:01\r\u001b[K     |█████████████████████████▏      | 1.8 MB 11.8 MB/s eta 0:00:01\r\u001b[K     |█████████████████████████▎      | 1.8 MB 11.8 MB/s eta 0:00:01\r\u001b[K     |█████████████████████████▌      | 1.8 MB 11.8 MB/s eta 0:00:01\r\u001b[K     |█████████████████████████▋      | 1.8 MB 11.8 MB/s eta 0:00:01\r\u001b[K     |█████████████████████████▊      | 1.8 MB 11.8 MB/s eta 0:00:01\r\u001b[K     |█████████████████████████▉      | 1.8 MB 11.8 MB/s eta 0:00:01\r\u001b[K     |██████████████████████████      | 1.9 MB 11.8 MB/s eta 0:00:01\r\u001b[K     |██████████████████████████▏     | 1.9 MB 11.8 MB/s eta 0:00:01\r\u001b[K     |██████████████████████████▎     | 1.9 MB 11.8 MB/s eta 0:00:01\r\u001b[K     |██████████████████████████▌     | 1.9 MB 11.8 MB/s eta 0:00:01\r\u001b[K     |██████████████████████████▋     | 1.9 MB 11.8 MB/s eta 0:00:01\r\u001b[K     |██████████████████████████▊     | 1.9 MB 11.8 MB/s eta 0:00:01\r\u001b[K     |██████████████████████████▉     | 1.9 MB 11.8 MB/s eta 0:00:01\r\u001b[K     |███████████████████████████     | 1.9 MB 11.8 MB/s eta 0:00:01\r\u001b[K     |███████████████████████████▏    | 1.9 MB 11.8 MB/s eta 0:00:01\r\u001b[K     |███████████████████████████▎    | 1.9 MB 11.8 MB/s eta 0:00:01\r\u001b[K     |███████████████████████████▌    | 2.0 MB 11.8 MB/s eta 0:00:01\r\u001b[K     |███████████████████████████▋    | 2.0 MB 11.8 MB/s eta 0:00:01\r\u001b[K     |███████████████████████████▊    | 2.0 MB 11.8 MB/s eta 0:00:01\r\u001b[K     |████████████████████████████    | 2.0 MB 11.8 MB/s eta 0:00:01\r\u001b[K     |████████████████████████████    | 2.0 MB 11.8 MB/s eta 0:00:01\r\u001b[K     |████████████████████████████▏   | 2.0 MB 11.8 MB/s eta 0:00:01\r\u001b[K     |████████████████████████████▎   | 2.0 MB 11.8 MB/s eta 0:00:01\r\u001b[K     |████████████████████████████▌   | 2.0 MB 11.8 MB/s eta 0:00:01\r\u001b[K     |████████████████████████████▋   | 2.0 MB 11.8 MB/s eta 0:00:01\r\u001b[K     |████████████████████████████▊   | 2.0 MB 11.8 MB/s eta 0:00:01\r\u001b[K     |█████████████████████████████   | 2.1 MB 11.8 MB/s eta 0:00:01\r\u001b[K     |█████████████████████████████   | 2.1 MB 11.8 MB/s eta 0:00:01\r\u001b[K     |█████████████████████████████▏  | 2.1 MB 11.8 MB/s eta 0:00:01\r\u001b[K     |█████████████████████████████▎  | 2.1 MB 11.8 MB/s eta 0:00:01\r\u001b[K     |█████████████████████████████▌  | 2.1 MB 11.8 MB/s eta 0:00:01\r\u001b[K     |█████████████████████████████▋  | 2.1 MB 11.8 MB/s eta 0:00:01\r\u001b[K     |█████████████████████████████▊  | 2.1 MB 11.8 MB/s eta 0:00:01\r\u001b[K     |██████████████████████████████  | 2.1 MB 11.8 MB/s eta 0:00:01\r\u001b[K     |██████████████████████████████  | 2.1 MB 11.8 MB/s eta 0:00:01\r\u001b[K     |██████████████████████████████▏ | 2.2 MB 11.8 MB/s eta 0:00:01\r\u001b[K     |██████████████████████████████▍ | 2.2 MB 11.8 MB/s eta 0:00:01\r\u001b[K     |██████████████████████████████▌ | 2.2 MB 11.8 MB/s eta 0:00:01\r\u001b[K     |██████████████████████████████▋ | 2.2 MB 11.8 MB/s eta 0:00:01\r\u001b[K     |██████████████████████████████▊ | 2.2 MB 11.8 MB/s eta 0:00:01\r\u001b[K     |███████████████████████████████ | 2.2 MB 11.8 MB/s eta 0:00:01\r\u001b[K     |███████████████████████████████ | 2.2 MB 11.8 MB/s eta 0:00:01\r\u001b[K     |███████████████████████████████▏| 2.2 MB 11.8 MB/s eta 0:00:01\r\u001b[K     |███████████████████████████████▍| 2.2 MB 11.8 MB/s eta 0:00:01\r\u001b[K     |███████████████████████████████▌| 2.2 MB 11.8 MB/s eta 0:00:01\r\u001b[K     |███████████████████████████████▋| 2.3 MB 11.8 MB/s eta 0:00:01\r\u001b[K     |███████████████████████████████▊| 2.3 MB 11.8 MB/s eta 0:00:01\r\u001b[K     |████████████████████████████████| 2.3 MB 11.8 MB/s eta 0:00:01\r\u001b[K     |████████████████████████████████| 2.3 MB 11.8 MB/s \n",
            "\u001b[?25hRequirement already satisfied: numpy in /usr/local/lib/python3.7/dist-packages (from biopython) (1.19.5)\n",
            "Installing collected packages: biopython\n",
            "Successfully installed biopython-1.79\n"
          ]
        }
      ]
    },
    {
      "cell_type": "markdown",
      "source": [
        "## Аннотация генома (пример)"
      ],
      "metadata": {
        "id": "EJIw_JDLUgt5"
      }
    },
    {
      "cell_type": "markdown",
      "source": [
        "Biopython Tutorial: http://biopython.org/DIST/docs/tutorial/Tutorial.html"
      ],
      "metadata": {
        "id": "qhxlclhoYhBh"
      }
    },
    {
      "cell_type": "code",
      "source": [
        "!head -n 20 gms2.lst"
      ],
      "metadata": {
        "id": "G33GF-iGU9Ka",
        "colab": {
          "base_uri": "https://localhost:8080/"
        },
        "outputId": "de16989a-0a4f-4c94-fcec-37d2c7f8bdf5"
      },
      "execution_count": 10,
      "outputs": [
        {
          "output_type": "stream",
          "name": "stdout",
          "text": [
            "# GeneMark.hmm-2 LST format\n",
            "# GeneMark.hmm-2 prokaryotic version: 1.25_lic\n",
            "# File with sequence: scaffolds.fasta\n",
            "# File with native parameters: GMS2.mod\n",
            "# Native species name and build: unspecified GeneMarkS-2-1.14_1.25_lic\n",
            "# File with MetaGeneMark parameters: /content/gms2_linux_64/mgm_11.mod\n",
            "# translation table: 11\n",
            "# output date start: Thu Dec 16 15:54:05 2021\n",
            "\n",
            "# sequence-region 1 3831515\n",
            "SequenceID: scaffold1_len3831483_cov231\n",
            "     1   +    146    1408    1263 native AAGGTG 6 1\n",
            "     2   +    1473    1817     345 native GAGGAA 6 1\n",
            "     3   +    1822    3249    1428 native CAGGTT 6 1\n",
            "     4   +    3330    4598    1269 native GCGGTA 6 1\n",
            "     5   -    4676    5905    1230 native TAGGTA 5 1\n",
            "     6   +    6130    7533    1404 native CCGGAC 6 1\n",
            "     7   -    7596    10190    2595 native GACGAT 9 1\n",
            "     8   +    10323    11420    1098 native AGTGAG 7 1\n",
            "     9   +    11420    11974     555 native AAGGAG 9 1\n"
          ]
        }
      ]
    },
    {
      "cell_type": "markdown",
      "source": [
        "Для примера проаннотируем два коротких скаффолда (scaffold3_cov275 и scaffold9_cov256):\n",
        "\n"
      ],
      "metadata": {
        "id": "OKK4GsdqZPZ6"
      }
    },
    {
      "cell_type": "code",
      "metadata": {
        "id": "1hegJvwMIiPe"
      },
      "source": [
        "from Bio import SeqIO\n",
        "my_data = {}\n",
        "for data in SeqIO.parse(\"/content/scaffolds.fasta\", \"fasta\"):\n",
        "    data.annotations['molecule_type'] = 'DNA'\n",
        "    my_data[data.id] = data"
      ],
      "execution_count": 15,
      "outputs": []
    },
    {
      "cell_type": "markdown",
      "source": [
        ""
      ],
      "metadata": {
        "id": "8GxjZgnsFATR"
      }
    },
    {
      "cell_type": "code",
      "source": [
        "my_data['scaffold1_len3831483_cov231']"
      ],
      "metadata": {
        "colab": {
          "base_uri": "https://localhost:8080/"
        },
        "id": "4fzCxkVm-FfG",
        "outputId": "21171180-e4f0-4589-8339-6a513bc03a9e"
      },
      "execution_count": 16,
      "outputs": [
        {
          "output_type": "execute_result",
          "data": {
            "text/plain": [
              "SeqRecord(seq=Seq('TAAAACCCCCTTCCGGTATCGGTTGGGGGTTTTTTCTTGGCTGCGATTCGAAGC...TTA'), id='scaffold1_len3831483_cov231', name='scaffold1_len3831483_cov231', description='scaffold1_len3831483_cov231', dbxrefs=[])"
            ]
          },
          "metadata": {},
          "execution_count": 16
        }
      ]
    },
    {
      "cell_type": "code",
      "source": [
        "SeqIO.write(my_data.values(), \"GENOME.gbk\", \"genbank\")"
      ],
      "metadata": {
        "id": "4mv05veKXHWo",
        "colab": {
          "base_uri": "https://localhost:8080/"
        },
        "outputId": "bbd15ced-21d3-437a-e145-3dd5e02203d7"
      },
      "execution_count": 17,
      "outputs": [
        {
          "output_type": "stream",
          "name": "stderr",
          "text": [
            "/usr/local/lib/python3.7/dist-packages/Bio/SeqIO/InsdcIO.py:730: BiopythonWarning: Increasing length of locus line to allow long name. This will result in fields that are not in usual positions.\n",
            "  BiopythonWarning,\n"
          ]
        },
        {
          "output_type": "execute_result",
          "data": {
            "text/plain": [
              "68"
            ]
          },
          "metadata": {},
          "execution_count": 17
        }
      ]
    },
    {
      "cell_type": "markdown",
      "source": [
        "## Добавляем координаты генов"
      ],
      "metadata": {
        "id": "nuikKeO1bL7N"
      }
    },
    {
      "cell_type": "markdown",
      "source": [
        "```\n",
        "SequenceID: scaffold3_cov275\n",
        "  3535   -    30    1001     972 atypical GTCGAG 5 1\n",
        "  3536   -    1350    2192     843 native AAAGTG 7 1\n",
        "  3537   +    2304    2507     204 native GCGGAG 7 1\n",
        "  3538   -    2554    2751     198 native TAAGTA 7 1\n",
        "  3539   +    2855    3265     411 native TCGGTC 6 1\n",
        "```"
      ],
      "metadata": {
        "id": "lR-FjFgRba09"
      }
    },
    {
      "cell_type": "code",
      "metadata": {
        "id": "4cXKMhtmYZ9t"
      },
      "source": [
        "from pprint import pprint\n",
        "from Bio.SeqFeature import SeqFeature, FeatureLocation\n",
        "\n",
        "data_ft = {}\n",
        "key = 0\n",
        "i = 0\n",
        "\n",
        "f = open('gms2.lst', 'r')\n",
        "for line in f:\n",
        "    if key == 1 and line[0] == '#':\n",
        "        key = 0\n",
        "    elif line[:10] == 'SequenceID':\n",
        "        key = 1\n",
        "        i = line[line.find('cov')+3:line.find('\\n')]\n",
        "        data_ft[i] = []\n",
        "\n",
        "    elif key == 1:\n",
        "        id_data = int(line[:6])\n",
        "        strand = line[9]\n",
        "        if strand == '-':\n",
        "            strand = -1\n",
        "        elif strand == '+':\n",
        "            strand = 1\n",
        "        else:\n",
        "            strand = 0\n",
        "        strand_st = int(line[14:line.find(\" \", 14)])\n",
        "        strand_end = int(line[line.find(\" \", 14)+4: line.find(\" \", line.find(\" \", 14)+4)])\n",
        "        sc = SeqFeature(FeatureLocation(strand_st, strand_end, strand=strand), type=\"CDS\")\n",
        "        sc.qualifiers['locus_tag'] = [str(id_data)]\n",
        "        data_ft[i].append(sc)\n",
        "\n",
        "\n",
        "\n"
      ],
      "execution_count": 20,
      "outputs": []
    },
    {
      "cell_type": "code",
      "source": [
        "SeqIO.write(my_data.values(), \"GENOME.gbk\", \"genbank\")"
      ],
      "metadata": {
        "id": "GoDauTDCvcdM",
        "colab": {
          "base_uri": "https://localhost:8080/"
        },
        "outputId": "337d98d8-78f9-4a3f-e6eb-904fb1734878"
      },
      "execution_count": 21,
      "outputs": [
        {
          "output_type": "stream",
          "name": "stderr",
          "text": [
            "/usr/local/lib/python3.7/dist-packages/Bio/SeqIO/InsdcIO.py:730: BiopythonWarning: Increasing length of locus line to allow long name. This will result in fields that are not in usual positions.\n",
            "  BiopythonWarning,\n"
          ]
        },
        {
          "output_type": "execute_result",
          "data": {
            "text/plain": [
              "68"
            ]
          },
          "metadata": {},
          "execution_count": 21
        }
      ]
    },
    {
      "cell_type": "markdown",
      "source": [
        "## Добавляем трансляции генов (аминокислотные посл-ти)"
      ],
      "metadata": {
        "id": "ed-CWFY3cZK0"
      }
    },
    {
      "cell_type": "code",
      "source": [
        "\n",
        "for protein in SeqIO.parse(\"proteins.fasta\", \"fasta\"):\n",
        "  for read in my_data.values():\n",
        "    for feature in read.features:\n",
        "      if protein.id == feature.qualifiers['locus_tag'][0]:\n",
        "        feature.qualifiers['translation'] = [protein.seq]"
      ],
      "metadata": {
        "id": "lmT1wp0Bcnlq"
      },
      "execution_count": 22,
      "outputs": []
    },
    {
      "cell_type": "code",
      "source": [
        "SeqIO.write(my_data.values(), \"GENOME.gbk\", \"genbank\")"
      ],
      "metadata": {
        "id": "AZfod3Pcv-yP",
        "colab": {
          "base_uri": "https://localhost:8080/"
        },
        "outputId": "29031b13-b3c8-4c71-e0b5-17017892c478"
      },
      "execution_count": 23,
      "outputs": [
        {
          "output_type": "stream",
          "name": "stderr",
          "text": [
            "/usr/local/lib/python3.7/dist-packages/Bio/SeqIO/InsdcIO.py:730: BiopythonWarning: Increasing length of locus line to allow long name. This will result in fields that are not in usual positions.\n",
            "  BiopythonWarning,\n"
          ]
        },
        {
          "output_type": "execute_result",
          "data": {
            "text/plain": [
              "68"
            ]
          },
          "metadata": {},
          "execution_count": 23
        }
      ]
    },
    {
      "cell_type": "markdown",
      "source": [
        "## Добавляем функции белков (из бактерии MIL-1)"
      ],
      "metadata": {
        "id": "D2UNiwEyet54"
      }
    },
    {
      "cell_type": "markdown",
      "source": [
        "Часть файла scaffolds.hits_from_MIL_1.txt:\n",
        "```\n",
        "3535\tlcl|HF680312.1_prot_CCU72326.1_1877\t99.054\t317\t3\t0\t3\t319\t1\t317\t0.0\t644\n",
        "3535\tlcl|HF680312.1_prot_CCU72392.1_1943\t34.583\t240\t138\t5\t85\t307\t956\t1193\t2.33e-30\t118\n",
        "3535\tlcl|HF680312.1_prot_CCU72759.1_2310\t27.667\t300\t188\t8\t8\t302\t709\t984\t1.02e-24\t101\n",
        "3535\tlcl|HF680312.1_prot_CCU70543.1_94\t42.857\t126\t71\t1\t79\t204\t798\t922\t5.63e-24\t99.4\n",
        "3535\tlcl|HF680312.1_prot_CCU70690.1_241\t26.140\t329\t205\t10\t2\t303\t591\t908\t6.26e-23\t96.7\n",
        "3535\tlcl|HF680312.1_prot_CCU74013.1_3564\t38.462\t130\t76\t3\t91\t219\t685\t811\t4.96e-20\t87.8\n",
        "3535\tlcl|HF680312.1_prot_CCU71475.1_1026\t36.522\t115\t71\t2\t86\t200\t555\t667\t2.19e-16\t76.6\n",
        "3535\tlcl|HF680312.1_prot_CCU71362.1_913\t24.535\t269\t187\t3\t52\t306\t633\t899\t2.61e-14\t70.5\n",
        "3535\tlcl|HF680312.1_prot_CCU70724.1_275\t30.534\t131\t81\t3\t78\t205\t1983\t2106\t6.54e-13\t66.2\n",
        "3535\tlcl|HF680312.1_prot_CCU70719.1_270\t26.087\t115\t83\t1\t90\t204\t15\t127\t9.14e-12\t58.5\n",
        "3535\tlcl|HF680312.1_prot_CCU72006.1_1557\t35.652\t115\t68\t3\t87\t200\t421\t530\t1.06e-11\t62.0\n",
        "3535\tlcl|HF680312.1_prot_CCU72513.1_2064\t33.628\t113\t72\t1\t91\t200\t766\t878\t1.22e-11\t62.4\n",
        "3536\tlcl|HF680312.1_prot_CCU72327.1_1878\t100.000\t280\t0\t0\t1\t280\t1\t280\t0.0\t570\n",
        "3536\tlcl|HF680312.1_prot_CCU72858.1_2409\t27.437\t277\t181\t4\t10\t272\t1\t271\t1.82e-26\t101\n",
        "3537\tlcl|HF680312.1_prot_CCU72328.1_1879\t100.000\t67\t0\t0\t1\t67\t1\t67\t9.75e-44\t132\n",
        "```"
      ],
      "metadata": {
        "id": "tCFpL_GLfDzJ"
      }
    },
    {
      "cell_type": "code",
      "source": [
        "f = open('scaffolds.hits_from_MIL_1.txt', 'r')\n",
        "before = ''\n",
        "the_list = []\n",
        "for line in f:\n",
        "    id_data = line[:line.find('\\t')]\n",
        "    if before != id_data:\n",
        "        before = id_data\n",
        "        need_data = line[line.find('CCU'):line.find('.',line.find('CCU'))+2]\n",
        "        break_key = False\n",
        "        for i in the_list:\n",
        "            for scaf in data_ft[i]:\n",
        "                if scaf.qualifiers['locus_tag'][0] == id_data:\n",
        "                    scaf.qualifiers['note'] = [need_data]\n",
        "                    break_key = True\n",
        "                    break\n",
        "            if break_key:\n",
        "                break"
      ],
      "metadata": {
        "id": "D3t40wML-mZ0"
      },
      "execution_count": 26,
      "outputs": []
    },
    {
      "cell_type": "code",
      "source": [
        "mil_1_genome = SeqIO.read(\"/content/T_oleivorans_MIL_1.gbk\", \"genbank\")"
      ],
      "metadata": {
        "id": "MxKSgTvihLIY"
      },
      "execution_count": 28,
      "outputs": []
    },
    {
      "cell_type": "code",
      "metadata": {
        "id": "4EDCGDdmZt8O"
      },
      "source": [
        "\n",
        "\n",
        "for  mil_f in mil_1_genome.features:\n",
        "    if 'protein_id' not in mil_f.qualifiers:\n",
        "        continue\n",
        "    for rcrd in my_data.values():\n",
        "        for feature in rcrd.features:\n",
        "            if 'note' in feature.qualifiers:\n",
        "                if mil_f.qualifiers['protein_id'][0] in feature.qualifiers['note']:\n",
        "                    feature.qualifiers['product'] = mil_f.qualifiers['product']"
      ],
      "execution_count": 31,
      "outputs": []
    },
    {
      "cell_type": "code",
      "source": [
        "\n",
        "SeqIO.write(my_data.values(), \"GENOME.gbk\", \"genbank\")"
      ],
      "metadata": {
        "id": "KHcrRw4HxTzk",
        "colab": {
          "base_uri": "https://localhost:8080/"
        },
        "outputId": "d3fd4ac8-b246-467e-9b53-ee76d72fff59"
      },
      "execution_count": 33,
      "outputs": [
        {
          "output_type": "stream",
          "name": "stderr",
          "text": [
            "/usr/local/lib/python3.7/dist-packages/Bio/SeqIO/InsdcIO.py:730: BiopythonWarning: Increasing length of locus line to allow long name. This will result in fields that are not in usual positions.\n",
            "  BiopythonWarning,\n"
          ]
        },
        {
          "output_type": "execute_result",
          "data": {
            "text/plain": [
              "68"
            ]
          },
          "metadata": {},
          "execution_count": 33
        }
      ]
    },
    {
      "cell_type": "markdown",
      "source": [
        "## Добавляем функции белков (из БД SwissProt)"
      ],
      "metadata": {
        "id": "Pr5GctSQxlsQ"
      }
    },
    {
      "cell_type": "markdown",
      "source": [
        "Читаем информацию из файла scaffolds.hits_from_SwissProt.txt"
      ],
      "metadata": {
        "id": "xLafv2r8xo6P"
      }
    },
    {
      "cell_type": "code",
      "source": [
        "!head scaffolds.hits_from_SwissProt.txt"
      ],
      "metadata": {
        "id": "_bHOMEqhxvDd",
        "colab": {
          "base_uri": "https://localhost:8080/"
        },
        "outputId": "14567be6-324b-4513-9c07-aeac032125cd"
      },
      "execution_count": 34,
      "outputs": [
        {
          "output_type": "stream",
          "name": "stdout",
          "text": [
            "157\tsp|P06990|T1SB_ECOLX\t35.794\t447\t271\t5\t4\t436\t19\t463\t4.31e-71\t238\n",
            "157\tsp|P06187|T1S_SALTY\t43.478\t322\t162\t5\t131\t436\t141\t458\t6.51e-69\t232\n",
            "157\tsp|P05719|T1SK_ECOLI\t48.013\t302\t140\t8\t145\t436\t159\t453\t5.28e-65\t221\n",
            "157\tsp|P07990|T1S_SALPO\t46.333\t300\t143\t9\t145\t434\t159\t450\t4.11e-57\t200\n",
            "157\tsp|Q58926|Y1531_METJA\t38.542\t192\t116\t1\t5\t194\t233\t424\t7.01e-33\t133\n",
            "157\tsp|P06991|T1SD_ECOLX\t54.331\t127\t58\t0\t310\t436\t307\t433\t1.89e-30\t127\n",
            "157\tsp|P06991|T1SD_ECOLX\t45.455\t99\t54\t0\t105\t203\t90\t188\t2.28e-17\t88.2\n",
            "160\tsp|Q9V1E9|KTHY_PYRAB\t39.073\t151\t76\t5\t3\t138\t4\t153\t3.10e-15\t73.9\n",
            "160\tsp|B6YSZ4|KTHY_THEON\t34.177\t158\t75\t4\t4\t138\t2\t153\t4.36e-12\t65.5\n",
            "160\tsp|C6A0S1|KTHY_THESM\t36.076\t158\t78\t7\t1\t138\t1\t155\t1.16e-11\t64.3\n"
          ]
        }
      ]
    },
    {
      "cell_type": "code",
      "source": [
        "with open('scaffolds.hits_from_SwissProt.txt') as f:\n",
        "    file_text = f.read().splitlines()\n",
        "\n",
        "for rcrd in my_data.values():\n",
        "    for feature in data.features:\n",
        "        feature.qualifiers['product_SwissProt'] = ''\n",
        "        for line in file_text:\n",
        "            frst = line.split('|')[2].split('\\t')[0]\n",
        "            scnd = line.split('\\t')[-2]\n",
        "            if feature.qualifiers['locus_tag'][0] == line.split('\\t')[0]:\n",
        "                feature.qualifiers['product_SwissProt'] +=  'Similar to SwissProt protein ' +first + ' (E_value= ' + second + '),  '"
      ],
      "metadata": {
        "id": "6blMVYxi9QwL"
      },
      "execution_count": 35,
      "outputs": []
    },
    {
      "cell_type": "markdown",
      "source": [
        "product = 'Similar to SwissProt protein Y1178_METJA (E-value = 2.95e-28)'"
      ],
      "metadata": {
        "id": "UykENPFgyIQu"
      }
    },
    {
      "cell_type": "markdown",
      "source": [
        "Бонус*\n",
        "\n",
        "Получить функции белков SwissProt из файла: https://ftp.uniprot.org/pub/databases/uniprot/current_release/knowledgebase/complete/uniprot_sprot.dat.gz"
      ],
      "metadata": {
        "id": "HWWUeHCdyAdb"
      }
    }
  ]
}